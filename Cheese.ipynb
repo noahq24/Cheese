{
 "cells": [
  {
   "cell_type": "markdown",
   "id": "95bc6a6c-36ac-41f8-873b-0c4e487b1aa3",
   "metadata": {},
   "source": [
    "# Case Study: Canadian Cheese Directory"
   ]
  },
  {
   "cell_type": "markdown",
   "id": "2a007cf9-7aa8-43de-b748-820d492beedc",
   "metadata": {},
   "source": [
    "# 1. Introduction"
   ]
  },
  {
   "cell_type": "markdown",
   "id": "c2aaeb5d-e3d1-4eed-9ad5-1baef265d4f7",
   "metadata": {},
   "source": [
    "In this case study will be analysis Canadian cheeses made from cow, goat, sheep, or buffalo milk. Canada produces more than 1450 cheeses that are listed in the Canadian Cheese Directory. \n",
    "\n",
    "The several varieties of cheese have been established according to guidelines including the type of milk, the cheese category, the milk treatment, the fat content, the ripening period and the production method. "
   ]
  },
  {
   "cell_type": "markdown",
   "id": "ce1c0221-b947-490f-ac6b-2e525eab850d",
   "metadata": {},
   "source": [
    "## 1.1 Objective"
   ]
  },
  {
   "cell_type": "markdown",
   "id": "5b6ac256-7391-478a-9762-8622a1196be8",
   "metadata": {},
   "source": [
    "# 2. Data"
   ]
  },
  {
   "cell_type": "markdown",
   "id": "cabb34a7-242a-45ba-962a-27d1dc4ea757",
   "metadata": {},
   "source": [
    "## 2.1 Source"
   ]
  },
  {
   "cell_type": "markdown",
   "id": "56159141-5de2-4938-ad8c-b5dc74b888e6",
   "metadata": {},
   "source": [
    "The Canadian Cheese Directory dataset was compiled by the Canadian Dairy Information Centre (CDIC) in collaboration with the Ministère de l'Agriculture, des Pêcheries et de l'Alimentation du Québec (MAPAQ). \n",
    "\n",
    "For further analysis, the dataset can be on Kaggle:  https://www.kaggle.com/datasets/noahjanes/canadian-cheese-directory?resource=download\n",
    "\n",
    "Contains information licensed under the Open Government Licence – Canada."
   ]
  },
  {
   "cell_type": "markdown",
   "id": "e75697a3-7238-463a-8a34-e0598454acf7",
   "metadata": {},
   "source": [
    "## 2.1 Atributes"
   ]
  },
  {
   "cell_type": "markdown",
   "id": "a55e357d-32d5-4ca5-a211-73167e5e4c52",
   "metadata": {},
   "source": [
    "This directory offers detailed insights into various cheeses based on essential attributes, including:\n",
    "\n",
    "- Milk Type: Cow, goat, sheep, or buffalo\n",
    "- Cheese Category: Fresh, soft, semi-soft, hard, and others\n",
    "- Milk Treatment: Raw vs. pasteurized\n",
    "- Fat Content: Varying fat percentages that influence flavor and texture\n",
    "- Ripening Period: Aging processes ranging from days to years\n",
    "- Production Method: Artisanal or industrial production"
   ]
  },
  {
   "cell_type": "markdown",
   "id": "56f7de93-f80e-4f9b-a6fe-898fa4579dc5",
   "metadata": {},
   "source": [
    "# 3. Ask"
   ]
  },
  {
   "cell_type": "markdown",
   "id": "3779804d-a8ea-4f14-89c9-66b89c4ce0a3",
   "metadata": {},
   "source": [
    "Based on the dataset these are the question I would like to explore:\n",
    "1. What is the distribution of cheeses by milk type (cow, goat, sheep, buffalo)?\n",
    "2. How does the ripening period affect the fat content and category of cheeses?\n",
    "3. What are the top provinces in terms of cheese variety and production?\n",
    "4. How does milk treatment (raw vs. pasteurized) impact the cheese category and ripening period?\n",
    "5. What is the relationship between fat content and production methods (e.g., artisanal vs. industrial)?"
   ]
  },
  {
   "cell_type": "markdown",
   "id": "ebfd2b64-b047-46f3-b988-069b93e33ec1",
   "metadata": {},
   "source": [
    "# 4. Process "
   ]
  },
  {
   "cell_type": "markdown",
   "id": "f05d930a-f19c-4b0b-ab7a-b7e13b2950f4",
   "metadata": {},
   "source": [
    "## 4.1 Importing Libraries"
   ]
  },
  {
   "cell_type": "code",
   "execution_count": 43,
   "id": "08e05906-d9aa-470d-b3b7-885a7ef6e4b3",
   "metadata": {},
   "outputs": [],
   "source": [
    "import pandas as pd\n",
    "import numpy as np"
   ]
  },
  {
   "cell_type": "markdown",
   "id": "1b4e984c-41fb-472d-9717-a257a9303793",
   "metadata": {},
   "source": [
    "## 4.2 Importing Data"
   ]
  },
  {
   "cell_type": "code",
   "execution_count": 44,
   "id": "d5a3c7cc-582c-4a52-b508-3d4e2a77bd76",
   "metadata": {},
   "outputs": [],
   "source": [
    "# STEP 1: COLLECT DATA\n",
    "df = pd.read_csv('/Users/noahscomputer/Downloads/cheese_data.csv')"
   ]
  },
  {
   "cell_type": "markdown",
   "id": "fb01084c-f22d-4b36-9cab-1843894c720e",
   "metadata": {},
   "source": [
    "## 4.3 Print the first 5 entries"
   ]
  },
  {
   "cell_type": "code",
   "execution_count": 45,
   "id": "2427ad41-9761-41b3-9036-34a3dc43cc0b",
   "metadata": {},
   "outputs": [
    {
     "data": {
      "text/html": [
       "<div>\n",
       "<style scoped>\n",
       "    .dataframe tbody tr th:only-of-type {\n",
       "        vertical-align: middle;\n",
       "    }\n",
       "\n",
       "    .dataframe tbody tr th {\n",
       "        vertical-align: top;\n",
       "    }\n",
       "\n",
       "    .dataframe thead th {\n",
       "        text-align: right;\n",
       "    }\n",
       "</style>\n",
       "<table border=\"1\" class=\"dataframe\">\n",
       "  <thead>\n",
       "    <tr style=\"text-align: right;\">\n",
       "      <th></th>\n",
       "      <th>CheeseId</th>\n",
       "      <th>ManufacturerProvCode</th>\n",
       "      <th>ManufacturingTypeEn</th>\n",
       "      <th>MoisturePercent</th>\n",
       "      <th>FlavourEn</th>\n",
       "      <th>CharacteristicsEn</th>\n",
       "      <th>Organic</th>\n",
       "      <th>CategoryTypeEn</th>\n",
       "      <th>MilkTypeEn</th>\n",
       "      <th>MilkTreatmentTypeEn</th>\n",
       "      <th>RindTypeEn</th>\n",
       "      <th>CheeseName</th>\n",
       "      <th>FatLevel</th>\n",
       "    </tr>\n",
       "  </thead>\n",
       "  <tbody>\n",
       "    <tr>\n",
       "      <th>0</th>\n",
       "      <td>228</td>\n",
       "      <td>NB</td>\n",
       "      <td>Farmstead</td>\n",
       "      <td>47.0</td>\n",
       "      <td>Sharp, lactic</td>\n",
       "      <td>Uncooked</td>\n",
       "      <td>0</td>\n",
       "      <td>Firm Cheese</td>\n",
       "      <td>Ewe</td>\n",
       "      <td>Raw Milk</td>\n",
       "      <td>Washed Rind</td>\n",
       "      <td>Sieur de Duplessis (Le)</td>\n",
       "      <td>lower fat</td>\n",
       "    </tr>\n",
       "    <tr>\n",
       "      <th>1</th>\n",
       "      <td>242</td>\n",
       "      <td>NB</td>\n",
       "      <td>Farmstead</td>\n",
       "      <td>47.9</td>\n",
       "      <td>Sharp, lactic, lightly caramelized</td>\n",
       "      <td>Uncooked</td>\n",
       "      <td>0</td>\n",
       "      <td>Semi-soft Cheese</td>\n",
       "      <td>Cow</td>\n",
       "      <td>Raw Milk</td>\n",
       "      <td>Washed Rind</td>\n",
       "      <td>Tomme Le Champ Doré</td>\n",
       "      <td>lower fat</td>\n",
       "    </tr>\n",
       "    <tr>\n",
       "      <th>2</th>\n",
       "      <td>301</td>\n",
       "      <td>ON</td>\n",
       "      <td>Industrial</td>\n",
       "      <td>54.0</td>\n",
       "      <td>Mild, tangy, and fruity</td>\n",
       "      <td>Pressed and cooked cheese, pasta filata, inter...</td>\n",
       "      <td>0</td>\n",
       "      <td>Firm Cheese</td>\n",
       "      <td>Cow</td>\n",
       "      <td>Pasteurized</td>\n",
       "      <td>NaN</td>\n",
       "      <td>Provolone Sette Fette (Tre-Stelle)</td>\n",
       "      <td>lower fat</td>\n",
       "    </tr>\n",
       "    <tr>\n",
       "      <th>3</th>\n",
       "      <td>303</td>\n",
       "      <td>NB</td>\n",
       "      <td>Farmstead</td>\n",
       "      <td>47.0</td>\n",
       "      <td>Sharp with fruity notes and a hint of wild honey</td>\n",
       "      <td>NaN</td>\n",
       "      <td>0</td>\n",
       "      <td>Veined Cheeses</td>\n",
       "      <td>Cow</td>\n",
       "      <td>Raw Milk</td>\n",
       "      <td>NaN</td>\n",
       "      <td>Geai Bleu (Le)</td>\n",
       "      <td>lower fat</td>\n",
       "    </tr>\n",
       "    <tr>\n",
       "      <th>4</th>\n",
       "      <td>319</td>\n",
       "      <td>NB</td>\n",
       "      <td>Farmstead</td>\n",
       "      <td>49.4</td>\n",
       "      <td>Softer taste</td>\n",
       "      <td>NaN</td>\n",
       "      <td>1</td>\n",
       "      <td>Semi-soft Cheese</td>\n",
       "      <td>Cow</td>\n",
       "      <td>Raw Milk</td>\n",
       "      <td>Washed Rind</td>\n",
       "      <td>Gamin (Le)</td>\n",
       "      <td>lower fat</td>\n",
       "    </tr>\n",
       "  </tbody>\n",
       "</table>\n",
       "</div>"
      ],
      "text/plain": [
       "   CheeseId ManufacturerProvCode ManufacturingTypeEn  MoisturePercent  \\\n",
       "0       228                   NB           Farmstead             47.0   \n",
       "1       242                   NB           Farmstead             47.9   \n",
       "2       301                   ON          Industrial             54.0   \n",
       "3       303                   NB           Farmstead             47.0   \n",
       "4       319                   NB           Farmstead             49.4   \n",
       "\n",
       "                                          FlavourEn  \\\n",
       "0                                     Sharp, lactic   \n",
       "1                Sharp, lactic, lightly caramelized   \n",
       "2                           Mild, tangy, and fruity   \n",
       "3  Sharp with fruity notes and a hint of wild honey   \n",
       "4                                      Softer taste   \n",
       "\n",
       "                                   CharacteristicsEn  Organic  \\\n",
       "0                                           Uncooked        0   \n",
       "1                                           Uncooked        0   \n",
       "2  Pressed and cooked cheese, pasta filata, inter...        0   \n",
       "3                                                NaN        0   \n",
       "4                                                NaN        1   \n",
       "\n",
       "     CategoryTypeEn MilkTypeEn MilkTreatmentTypeEn   RindTypeEn  \\\n",
       "0       Firm Cheese        Ewe            Raw Milk  Washed Rind   \n",
       "1  Semi-soft Cheese        Cow            Raw Milk  Washed Rind   \n",
       "2       Firm Cheese        Cow         Pasteurized          NaN   \n",
       "3    Veined Cheeses        Cow            Raw Milk          NaN   \n",
       "4  Semi-soft Cheese        Cow            Raw Milk  Washed Rind   \n",
       "\n",
       "                           CheeseName   FatLevel  \n",
       "0             Sieur de Duplessis (Le)  lower fat  \n",
       "1                 Tomme Le Champ Doré  lower fat  \n",
       "2  Provolone Sette Fette (Tre-Stelle)  lower fat  \n",
       "3                      Geai Bleu (Le)  lower fat  \n",
       "4                          Gamin (Le)  lower fat  "
      ]
     },
     "execution_count": 45,
     "metadata": {},
     "output_type": "execute_result"
    }
   ],
   "source": [
    "df.head()"
   ]
  },
  {
   "cell_type": "markdown",
   "id": "44e3fae0-d03b-4521-9daf-2aa7f2ca0742",
   "metadata": {},
   "source": [
    "## 4.4 Print the last 5 entries"
   ]
  },
  {
   "cell_type": "code",
   "execution_count": 46,
   "id": "354075a9-d0ee-4494-a631-5d7006853d59",
   "metadata": {},
   "outputs": [
    {
     "data": {
      "text/html": [
       "<div>\n",
       "<style scoped>\n",
       "    .dataframe tbody tr th:only-of-type {\n",
       "        vertical-align: middle;\n",
       "    }\n",
       "\n",
       "    .dataframe tbody tr th {\n",
       "        vertical-align: top;\n",
       "    }\n",
       "\n",
       "    .dataframe thead th {\n",
       "        text-align: right;\n",
       "    }\n",
       "</style>\n",
       "<table border=\"1\" class=\"dataframe\">\n",
       "  <thead>\n",
       "    <tr style=\"text-align: right;\">\n",
       "      <th></th>\n",
       "      <th>CheeseId</th>\n",
       "      <th>ManufacturerProvCode</th>\n",
       "      <th>ManufacturingTypeEn</th>\n",
       "      <th>MoisturePercent</th>\n",
       "      <th>FlavourEn</th>\n",
       "      <th>CharacteristicsEn</th>\n",
       "      <th>Organic</th>\n",
       "      <th>CategoryTypeEn</th>\n",
       "      <th>MilkTypeEn</th>\n",
       "      <th>MilkTreatmentTypeEn</th>\n",
       "      <th>RindTypeEn</th>\n",
       "      <th>CheeseName</th>\n",
       "      <th>FatLevel</th>\n",
       "    </tr>\n",
       "  </thead>\n",
       "  <tbody>\n",
       "    <tr>\n",
       "      <th>1041</th>\n",
       "      <td>2391</td>\n",
       "      <td>AB</td>\n",
       "      <td>Artisan</td>\n",
       "      <td>31.5</td>\n",
       "      <td>Available in different flavor: original, herb ...</td>\n",
       "      <td>Soft Squeaky Fresh Cheese.</td>\n",
       "      <td>0</td>\n",
       "      <td>Fresh Cheese</td>\n",
       "      <td>Cow</td>\n",
       "      <td>Pasteurized</td>\n",
       "      <td>No Rind</td>\n",
       "      <td>Super Fresh Cheese Curds</td>\n",
       "      <td>higher fat</td>\n",
       "    </tr>\n",
       "  </tbody>\n",
       "</table>\n",
       "</div>"
      ],
      "text/plain": [
       "      CheeseId ManufacturerProvCode ManufacturingTypeEn  MoisturePercent  \\\n",
       "1041      2391                   AB             Artisan             31.5   \n",
       "\n",
       "                                              FlavourEn  \\\n",
       "1041  Available in different flavor: original, herb ...   \n",
       "\n",
       "               CharacteristicsEn  Organic CategoryTypeEn MilkTypeEn  \\\n",
       "1041  Soft Squeaky Fresh Cheese.        0   Fresh Cheese        Cow   \n",
       "\n",
       "     MilkTreatmentTypeEn RindTypeEn                CheeseName    FatLevel  \n",
       "1041         Pasteurized    No Rind  Super Fresh Cheese Curds  higher fat  "
      ]
     },
     "execution_count": 46,
     "metadata": {},
     "output_type": "execute_result"
    }
   ],
   "source": [
    "df.tail(1)"
   ]
  },
  {
   "cell_type": "markdown",
   "id": "bc2d91e1-dc69-49fe-97e0-fc02112c84a1",
   "metadata": {},
   "source": [
    "## 4.5 Rename headers of the dataframe"
   ]
  },
  {
   "cell_type": "code",
   "execution_count": 47,
   "id": "0ece3737-8b6c-4c8f-97b7-bebfe81a6635",
   "metadata": {},
   "outputs": [],
   "source": [
    "# Rename to make them consistent\n",
    "headers = [ 'cheese_id', \n",
    "    'province_code', \n",
    "    'manufacturing_type', \n",
    "    'moisture_percent', \n",
    "    'flavour', \n",
    "    'characteristics', \n",
    "    'is_organic', \n",
    "    'category', \n",
    "    'milk_type', \n",
    "    'milk_treatment', \n",
    "    'rind_type', \n",
    "    'cheese_name', \n",
    "    'fat_level']"
   ]
  },
  {
   "cell_type": "code",
   "execution_count": 48,
   "id": "02466d6f-1d45-46f8-a980-c466bbf1d9a7",
   "metadata": {},
   "outputs": [],
   "source": [
    "df.columns = headers"
   ]
  },
  {
   "cell_type": "code",
   "execution_count": 49,
   "id": "3a19fe1c-277b-49eb-945e-5d9cd5faa9c0",
   "metadata": {},
   "outputs": [
    {
     "data": {
      "text/html": [
       "<div>\n",
       "<style scoped>\n",
       "    .dataframe tbody tr th:only-of-type {\n",
       "        vertical-align: middle;\n",
       "    }\n",
       "\n",
       "    .dataframe tbody tr th {\n",
       "        vertical-align: top;\n",
       "    }\n",
       "\n",
       "    .dataframe thead th {\n",
       "        text-align: right;\n",
       "    }\n",
       "</style>\n",
       "<table border=\"1\" class=\"dataframe\">\n",
       "  <thead>\n",
       "    <tr style=\"text-align: right;\">\n",
       "      <th></th>\n",
       "      <th>cheese_id</th>\n",
       "      <th>province_code</th>\n",
       "      <th>manufacturing_type</th>\n",
       "      <th>moisture_percent</th>\n",
       "      <th>flavour</th>\n",
       "      <th>characteristics</th>\n",
       "      <th>is_organic</th>\n",
       "      <th>category</th>\n",
       "      <th>milk_type</th>\n",
       "      <th>milk_treatment</th>\n",
       "      <th>rind_type</th>\n",
       "      <th>cheese_name</th>\n",
       "      <th>fat_level</th>\n",
       "    </tr>\n",
       "  </thead>\n",
       "  <tbody>\n",
       "    <tr>\n",
       "      <th>0</th>\n",
       "      <td>228</td>\n",
       "      <td>NB</td>\n",
       "      <td>Farmstead</td>\n",
       "      <td>47.0</td>\n",
       "      <td>Sharp, lactic</td>\n",
       "      <td>Uncooked</td>\n",
       "      <td>0</td>\n",
       "      <td>Firm Cheese</td>\n",
       "      <td>Ewe</td>\n",
       "      <td>Raw Milk</td>\n",
       "      <td>Washed Rind</td>\n",
       "      <td>Sieur de Duplessis (Le)</td>\n",
       "      <td>lower fat</td>\n",
       "    </tr>\n",
       "    <tr>\n",
       "      <th>1</th>\n",
       "      <td>242</td>\n",
       "      <td>NB</td>\n",
       "      <td>Farmstead</td>\n",
       "      <td>47.9</td>\n",
       "      <td>Sharp, lactic, lightly caramelized</td>\n",
       "      <td>Uncooked</td>\n",
       "      <td>0</td>\n",
       "      <td>Semi-soft Cheese</td>\n",
       "      <td>Cow</td>\n",
       "      <td>Raw Milk</td>\n",
       "      <td>Washed Rind</td>\n",
       "      <td>Tomme Le Champ Doré</td>\n",
       "      <td>lower fat</td>\n",
       "    </tr>\n",
       "    <tr>\n",
       "      <th>2</th>\n",
       "      <td>301</td>\n",
       "      <td>ON</td>\n",
       "      <td>Industrial</td>\n",
       "      <td>54.0</td>\n",
       "      <td>Mild, tangy, and fruity</td>\n",
       "      <td>Pressed and cooked cheese, pasta filata, inter...</td>\n",
       "      <td>0</td>\n",
       "      <td>Firm Cheese</td>\n",
       "      <td>Cow</td>\n",
       "      <td>Pasteurized</td>\n",
       "      <td>NaN</td>\n",
       "      <td>Provolone Sette Fette (Tre-Stelle)</td>\n",
       "      <td>lower fat</td>\n",
       "    </tr>\n",
       "  </tbody>\n",
       "</table>\n",
       "</div>"
      ],
      "text/plain": [
       "   cheese_id province_code manufacturing_type  moisture_percent  \\\n",
       "0        228            NB          Farmstead              47.0   \n",
       "1        242            NB          Farmstead              47.9   \n",
       "2        301            ON         Industrial              54.0   \n",
       "\n",
       "                              flavour  \\\n",
       "0                       Sharp, lactic   \n",
       "1  Sharp, lactic, lightly caramelized   \n",
       "2             Mild, tangy, and fruity   \n",
       "\n",
       "                                     characteristics  is_organic  \\\n",
       "0                                           Uncooked           0   \n",
       "1                                           Uncooked           0   \n",
       "2  Pressed and cooked cheese, pasta filata, inter...           0   \n",
       "\n",
       "           category milk_type milk_treatment    rind_type  \\\n",
       "0       Firm Cheese       Ewe       Raw Milk  Washed Rind   \n",
       "1  Semi-soft Cheese       Cow       Raw Milk  Washed Rind   \n",
       "2       Firm Cheese       Cow    Pasteurized          NaN   \n",
       "\n",
       "                          cheese_name  fat_level  \n",
       "0             Sieur de Duplessis (Le)  lower fat  \n",
       "1                 Tomme Le Champ Doré  lower fat  \n",
       "2  Provolone Sette Fette (Tre-Stelle)  lower fat  "
      ]
     },
     "execution_count": 49,
     "metadata": {},
     "output_type": "execute_result"
    }
   ],
   "source": [
    "#Check Used the head()to displayed the first 3 columns of the data frame\n",
    "\n",
    "df.head(3)"
   ]
  },
  {
   "cell_type": "markdown",
   "id": "1a45e863-3777-4f6a-9d05-bb5e0c6b30a3",
   "metadata": {},
   "source": [
    "## 4.6 Identify the data types of the dataframe columns"
   ]
  },
  {
   "cell_type": "code",
   "execution_count": 50,
   "id": "d1ae0f4b-11c0-4bc6-8809-3312879c685b",
   "metadata": {},
   "outputs": [
    {
     "data": {
      "text/plain": [
       "cheese_id               int64\n",
       "province_code          object\n",
       "manufacturing_type     object\n",
       "moisture_percent      float64\n",
       "flavour                object\n",
       "characteristics        object\n",
       "is_organic              int64\n",
       "category               object\n",
       "milk_type              object\n",
       "milk_treatment         object\n",
       "rind_type              object\n",
       "cheese_name            object\n",
       "fat_level              object\n",
       "dtype: object"
      ]
     },
     "execution_count": 50,
     "metadata": {},
     "output_type": "execute_result"
    }
   ],
   "source": [
    "df.dtypes"
   ]
  },
  {
   "cell_type": "markdown",
   "id": "bc02f0a9-0da4-4161-8328-f3c3f9d1b7e0",
   "metadata": {},
   "source": [
    "## 4.7 Identify the statistical description of the dataset, including that of 'object' data types."
   ]
  },
  {
   "cell_type": "code",
   "execution_count": 51,
   "id": "31918c23-b938-4bbc-bdfa-4bf44e0854d6",
   "metadata": {},
   "outputs": [
    {
     "data": {
      "text/html": [
       "<div>\n",
       "<style scoped>\n",
       "    .dataframe tbody tr th:only-of-type {\n",
       "        vertical-align: middle;\n",
       "    }\n",
       "\n",
       "    .dataframe tbody tr th {\n",
       "        vertical-align: top;\n",
       "    }\n",
       "\n",
       "    .dataframe thead th {\n",
       "        text-align: right;\n",
       "    }\n",
       "</style>\n",
       "<table border=\"1\" class=\"dataframe\">\n",
       "  <thead>\n",
       "    <tr style=\"text-align: right;\">\n",
       "      <th></th>\n",
       "      <th>cheese_id</th>\n",
       "      <th>province_code</th>\n",
       "      <th>manufacturing_type</th>\n",
       "      <th>moisture_percent</th>\n",
       "      <th>flavour</th>\n",
       "      <th>characteristics</th>\n",
       "      <th>is_organic</th>\n",
       "      <th>category</th>\n",
       "      <th>milk_type</th>\n",
       "      <th>milk_treatment</th>\n",
       "      <th>rind_type</th>\n",
       "      <th>cheese_name</th>\n",
       "      <th>fat_level</th>\n",
       "    </tr>\n",
       "  </thead>\n",
       "  <tbody>\n",
       "    <tr>\n",
       "      <th>count</th>\n",
       "      <td>1042.000000</td>\n",
       "      <td>1042</td>\n",
       "      <td>1042</td>\n",
       "      <td>1028.000000</td>\n",
       "      <td>801</td>\n",
       "      <td>643</td>\n",
       "      <td>1042.000000</td>\n",
       "      <td>1019</td>\n",
       "      <td>1041</td>\n",
       "      <td>977</td>\n",
       "      <td>721</td>\n",
       "      <td>1042</td>\n",
       "      <td>1042</td>\n",
       "    </tr>\n",
       "    <tr>\n",
       "      <th>unique</th>\n",
       "      <td>NaN</td>\n",
       "      <td>10</td>\n",
       "      <td>3</td>\n",
       "      <td>NaN</td>\n",
       "      <td>635</td>\n",
       "      <td>535</td>\n",
       "      <td>NaN</td>\n",
       "      <td>6</td>\n",
       "      <td>8</td>\n",
       "      <td>3</td>\n",
       "      <td>4</td>\n",
       "      <td>1038</td>\n",
       "      <td>2</td>\n",
       "    </tr>\n",
       "    <tr>\n",
       "      <th>top</th>\n",
       "      <td>NaN</td>\n",
       "      <td>QC</td>\n",
       "      <td>Industrial</td>\n",
       "      <td>NaN</td>\n",
       "      <td>Mild</td>\n",
       "      <td>Creamy</td>\n",
       "      <td>NaN</td>\n",
       "      <td>Firm Cheese</td>\n",
       "      <td>Cow</td>\n",
       "      <td>Pasteurized</td>\n",
       "      <td>No Rind</td>\n",
       "      <td>Ménestrel (Le)</td>\n",
       "      <td>lower fat</td>\n",
       "    </tr>\n",
       "    <tr>\n",
       "      <th>freq</th>\n",
       "      <td>NaN</td>\n",
       "      <td>796</td>\n",
       "      <td>455</td>\n",
       "      <td>NaN</td>\n",
       "      <td>59</td>\n",
       "      <td>19</td>\n",
       "      <td>NaN</td>\n",
       "      <td>349</td>\n",
       "      <td>743</td>\n",
       "      <td>800</td>\n",
       "      <td>404</td>\n",
       "      <td>2</td>\n",
       "      <td>684</td>\n",
       "    </tr>\n",
       "    <tr>\n",
       "      <th>mean</th>\n",
       "      <td>1560.633397</td>\n",
       "      <td>NaN</td>\n",
       "      <td>NaN</td>\n",
       "      <td>47.069747</td>\n",
       "      <td>NaN</td>\n",
       "      <td>NaN</td>\n",
       "      <td>0.095010</td>\n",
       "      <td>NaN</td>\n",
       "      <td>NaN</td>\n",
       "      <td>NaN</td>\n",
       "      <td>NaN</td>\n",
       "      <td>NaN</td>\n",
       "      <td>NaN</td>\n",
       "    </tr>\n",
       "    <tr>\n",
       "      <th>std</th>\n",
       "      <td>451.811164</td>\n",
       "      <td>NaN</td>\n",
       "      <td>NaN</td>\n",
       "      <td>9.592647</td>\n",
       "      <td>NaN</td>\n",
       "      <td>NaN</td>\n",
       "      <td>0.293369</td>\n",
       "      <td>NaN</td>\n",
       "      <td>NaN</td>\n",
       "      <td>NaN</td>\n",
       "      <td>NaN</td>\n",
       "      <td>NaN</td>\n",
       "      <td>NaN</td>\n",
       "    </tr>\n",
       "    <tr>\n",
       "      <th>min</th>\n",
       "      <td>228.000000</td>\n",
       "      <td>NaN</td>\n",
       "      <td>NaN</td>\n",
       "      <td>12.000000</td>\n",
       "      <td>NaN</td>\n",
       "      <td>NaN</td>\n",
       "      <td>0.000000</td>\n",
       "      <td>NaN</td>\n",
       "      <td>NaN</td>\n",
       "      <td>NaN</td>\n",
       "      <td>NaN</td>\n",
       "      <td>NaN</td>\n",
       "      <td>NaN</td>\n",
       "    </tr>\n",
       "    <tr>\n",
       "      <th>25%</th>\n",
       "      <td>1280.250000</td>\n",
       "      <td>NaN</td>\n",
       "      <td>NaN</td>\n",
       "      <td>40.000000</td>\n",
       "      <td>NaN</td>\n",
       "      <td>NaN</td>\n",
       "      <td>0.000000</td>\n",
       "      <td>NaN</td>\n",
       "      <td>NaN</td>\n",
       "      <td>NaN</td>\n",
       "      <td>NaN</td>\n",
       "      <td>NaN</td>\n",
       "      <td>NaN</td>\n",
       "    </tr>\n",
       "    <tr>\n",
       "      <th>50%</th>\n",
       "      <td>1548.500000</td>\n",
       "      <td>NaN</td>\n",
       "      <td>NaN</td>\n",
       "      <td>46.000000</td>\n",
       "      <td>NaN</td>\n",
       "      <td>NaN</td>\n",
       "      <td>0.000000</td>\n",
       "      <td>NaN</td>\n",
       "      <td>NaN</td>\n",
       "      <td>NaN</td>\n",
       "      <td>NaN</td>\n",
       "      <td>NaN</td>\n",
       "      <td>NaN</td>\n",
       "    </tr>\n",
       "    <tr>\n",
       "      <th>75%</th>\n",
       "      <td>1901.750000</td>\n",
       "      <td>NaN</td>\n",
       "      <td>NaN</td>\n",
       "      <td>52.000000</td>\n",
       "      <td>NaN</td>\n",
       "      <td>NaN</td>\n",
       "      <td>0.000000</td>\n",
       "      <td>NaN</td>\n",
       "      <td>NaN</td>\n",
       "      <td>NaN</td>\n",
       "      <td>NaN</td>\n",
       "      <td>NaN</td>\n",
       "      <td>NaN</td>\n",
       "    </tr>\n",
       "    <tr>\n",
       "      <th>max</th>\n",
       "      <td>2391.000000</td>\n",
       "      <td>NaN</td>\n",
       "      <td>NaN</td>\n",
       "      <td>92.000000</td>\n",
       "      <td>NaN</td>\n",
       "      <td>NaN</td>\n",
       "      <td>1.000000</td>\n",
       "      <td>NaN</td>\n",
       "      <td>NaN</td>\n",
       "      <td>NaN</td>\n",
       "      <td>NaN</td>\n",
       "      <td>NaN</td>\n",
       "      <td>NaN</td>\n",
       "    </tr>\n",
       "  </tbody>\n",
       "</table>\n",
       "</div>"
      ],
      "text/plain": [
       "          cheese_id province_code manufacturing_type  moisture_percent  \\\n",
       "count   1042.000000          1042               1042       1028.000000   \n",
       "unique          NaN            10                  3               NaN   \n",
       "top             NaN            QC         Industrial               NaN   \n",
       "freq            NaN           796                455               NaN   \n",
       "mean    1560.633397           NaN                NaN         47.069747   \n",
       "std      451.811164           NaN                NaN          9.592647   \n",
       "min      228.000000           NaN                NaN         12.000000   \n",
       "25%     1280.250000           NaN                NaN         40.000000   \n",
       "50%     1548.500000           NaN                NaN         46.000000   \n",
       "75%     1901.750000           NaN                NaN         52.000000   \n",
       "max     2391.000000           NaN                NaN         92.000000   \n",
       "\n",
       "       flavour characteristics   is_organic     category milk_type  \\\n",
       "count      801             643  1042.000000         1019      1041   \n",
       "unique     635             535          NaN            6         8   \n",
       "top       Mild          Creamy          NaN  Firm Cheese       Cow   \n",
       "freq        59              19          NaN          349       743   \n",
       "mean       NaN             NaN     0.095010          NaN       NaN   \n",
       "std        NaN             NaN     0.293369          NaN       NaN   \n",
       "min        NaN             NaN     0.000000          NaN       NaN   \n",
       "25%        NaN             NaN     0.000000          NaN       NaN   \n",
       "50%        NaN             NaN     0.000000          NaN       NaN   \n",
       "75%        NaN             NaN     0.000000          NaN       NaN   \n",
       "max        NaN             NaN     1.000000          NaN       NaN   \n",
       "\n",
       "       milk_treatment rind_type     cheese_name  fat_level  \n",
       "count             977       721            1042       1042  \n",
       "unique              3         4            1038          2  \n",
       "top       Pasteurized   No Rind  Ménestrel (Le)  lower fat  \n",
       "freq              800       404               2        684  \n",
       "mean              NaN       NaN             NaN        NaN  \n",
       "std               NaN       NaN             NaN        NaN  \n",
       "min               NaN       NaN             NaN        NaN  \n",
       "25%               NaN       NaN             NaN        NaN  \n",
       "50%               NaN       NaN             NaN        NaN  \n",
       "75%               NaN       NaN             NaN        NaN  \n",
       "max               NaN       NaN             NaN        NaN  "
      ]
     },
     "execution_count": 51,
     "metadata": {},
     "output_type": "execute_result"
    }
   ],
   "source": [
    "df.describe(include='all')"
   ]
  },
  {
   "cell_type": "markdown",
   "id": "cccdaa74-f90c-42e7-8bd3-ce14085bf1c4",
   "metadata": {},
   "source": [
    "## 4.8 Identify the summary information of the dataset"
   ]
  },
  {
   "cell_type": "code",
   "execution_count": 52,
   "id": "08663ad3-dedc-44bc-835a-8e720207f86d",
   "metadata": {},
   "outputs": [
    {
     "name": "stdout",
     "output_type": "stream",
     "text": [
      "<class 'pandas.core.frame.DataFrame'>\n",
      "RangeIndex: 1042 entries, 0 to 1041\n",
      "Data columns (total 13 columns):\n",
      " #   Column              Non-Null Count  Dtype  \n",
      "---  ------              --------------  -----  \n",
      " 0   cheese_id           1042 non-null   int64  \n",
      " 1   province_code       1042 non-null   object \n",
      " 2   manufacturing_type  1042 non-null   object \n",
      " 3   moisture_percent    1028 non-null   float64\n",
      " 4   flavour             801 non-null    object \n",
      " 5   characteristics     643 non-null    object \n",
      " 6   is_organic          1042 non-null   int64  \n",
      " 7   category            1019 non-null   object \n",
      " 8   milk_type           1041 non-null   object \n",
      " 9   milk_treatment      977 non-null    object \n",
      " 10  rind_type           721 non-null    object \n",
      " 11  cheese_name         1042 non-null   object \n",
      " 12  fat_level           1042 non-null   object \n",
      "dtypes: float64(1), int64(2), object(10)\n",
      "memory usage: 106.0+ KB\n"
     ]
    }
   ],
   "source": [
    "df.info()"
   ]
  },
  {
   "cell_type": "code",
   "execution_count": 53,
   "id": "07209377-4258-4337-8e05-b99a2651d89b",
   "metadata": {},
   "outputs": [
    {
     "data": {
      "text/plain": [
       "(1042, 13)"
      ]
     },
     "execution_count": 53,
     "metadata": {},
     "output_type": "execute_result"
    }
   ],
   "source": [
    "df.shape"
   ]
  },
  {
   "cell_type": "markdown",
   "id": "0c1d3c54-82bd-49c9-a99f-12e968fc2d26",
   "metadata": {},
   "source": [
    "## 4.9 Identify missing values"
   ]
  },
  {
   "cell_type": "markdown",
   "id": "2997dd55-85f5-4656-a5f1-a84d8241605b",
   "metadata": {},
   "source": [
    "### 4.9.1 Replace '?' with 'NaN'"
   ]
  },
  {
   "cell_type": "code",
   "execution_count": 54,
   "id": "b143fe83-9c9d-4e1e-859a-d083613efcfe",
   "metadata": {},
   "outputs": [
    {
     "data": {
      "text/html": [
       "<div>\n",
       "<style scoped>\n",
       "    .dataframe tbody tr th:only-of-type {\n",
       "        vertical-align: middle;\n",
       "    }\n",
       "\n",
       "    .dataframe tbody tr th {\n",
       "        vertical-align: top;\n",
       "    }\n",
       "\n",
       "    .dataframe thead th {\n",
       "        text-align: right;\n",
       "    }\n",
       "</style>\n",
       "<table border=\"1\" class=\"dataframe\">\n",
       "  <thead>\n",
       "    <tr style=\"text-align: right;\">\n",
       "      <th></th>\n",
       "      <th>cheese_id</th>\n",
       "      <th>province_code</th>\n",
       "      <th>manufacturing_type</th>\n",
       "      <th>moisture_percent</th>\n",
       "      <th>flavour</th>\n",
       "      <th>characteristics</th>\n",
       "      <th>is_organic</th>\n",
       "      <th>category</th>\n",
       "      <th>milk_type</th>\n",
       "      <th>milk_treatment</th>\n",
       "      <th>rind_type</th>\n",
       "      <th>cheese_name</th>\n",
       "      <th>fat_level</th>\n",
       "    </tr>\n",
       "  </thead>\n",
       "  <tbody>\n",
       "    <tr>\n",
       "      <th>0</th>\n",
       "      <td>228</td>\n",
       "      <td>NB</td>\n",
       "      <td>Farmstead</td>\n",
       "      <td>47.0</td>\n",
       "      <td>Sharp, lactic</td>\n",
       "      <td>Uncooked</td>\n",
       "      <td>0</td>\n",
       "      <td>Firm Cheese</td>\n",
       "      <td>Ewe</td>\n",
       "      <td>Raw Milk</td>\n",
       "      <td>Washed Rind</td>\n",
       "      <td>Sieur de Duplessis (Le)</td>\n",
       "      <td>lower fat</td>\n",
       "    </tr>\n",
       "    <tr>\n",
       "      <th>1</th>\n",
       "      <td>242</td>\n",
       "      <td>NB</td>\n",
       "      <td>Farmstead</td>\n",
       "      <td>47.9</td>\n",
       "      <td>Sharp, lactic, lightly caramelized</td>\n",
       "      <td>Uncooked</td>\n",
       "      <td>0</td>\n",
       "      <td>Semi-soft Cheese</td>\n",
       "      <td>Cow</td>\n",
       "      <td>Raw Milk</td>\n",
       "      <td>Washed Rind</td>\n",
       "      <td>Tomme Le Champ Doré</td>\n",
       "      <td>lower fat</td>\n",
       "    </tr>\n",
       "    <tr>\n",
       "      <th>2</th>\n",
       "      <td>301</td>\n",
       "      <td>ON</td>\n",
       "      <td>Industrial</td>\n",
       "      <td>54.0</td>\n",
       "      <td>Mild, tangy, and fruity</td>\n",
       "      <td>Pressed and cooked cheese, pasta filata, inter...</td>\n",
       "      <td>0</td>\n",
       "      <td>Firm Cheese</td>\n",
       "      <td>Cow</td>\n",
       "      <td>Pasteurized</td>\n",
       "      <td>NaN</td>\n",
       "      <td>Provolone Sette Fette (Tre-Stelle)</td>\n",
       "      <td>lower fat</td>\n",
       "    </tr>\n",
       "    <tr>\n",
       "      <th>3</th>\n",
       "      <td>303</td>\n",
       "      <td>NB</td>\n",
       "      <td>Farmstead</td>\n",
       "      <td>47.0</td>\n",
       "      <td>Sharp with fruity notes and a hint of wild honey</td>\n",
       "      <td>NaN</td>\n",
       "      <td>0</td>\n",
       "      <td>Veined Cheeses</td>\n",
       "      <td>Cow</td>\n",
       "      <td>Raw Milk</td>\n",
       "      <td>NaN</td>\n",
       "      <td>Geai Bleu (Le)</td>\n",
       "      <td>lower fat</td>\n",
       "    </tr>\n",
       "    <tr>\n",
       "      <th>4</th>\n",
       "      <td>319</td>\n",
       "      <td>NB</td>\n",
       "      <td>Farmstead</td>\n",
       "      <td>49.4</td>\n",
       "      <td>Softer taste</td>\n",
       "      <td>NaN</td>\n",
       "      <td>1</td>\n",
       "      <td>Semi-soft Cheese</td>\n",
       "      <td>Cow</td>\n",
       "      <td>Raw Milk</td>\n",
       "      <td>Washed Rind</td>\n",
       "      <td>Gamin (Le)</td>\n",
       "      <td>lower fat</td>\n",
       "    </tr>\n",
       "  </tbody>\n",
       "</table>\n",
       "</div>"
      ],
      "text/plain": [
       "   cheese_id province_code manufacturing_type  moisture_percent  \\\n",
       "0        228            NB          Farmstead              47.0   \n",
       "1        242            NB          Farmstead              47.9   \n",
       "2        301            ON         Industrial              54.0   \n",
       "3        303            NB          Farmstead              47.0   \n",
       "4        319            NB          Farmstead              49.4   \n",
       "\n",
       "                                            flavour  \\\n",
       "0                                     Sharp, lactic   \n",
       "1                Sharp, lactic, lightly caramelized   \n",
       "2                           Mild, tangy, and fruity   \n",
       "3  Sharp with fruity notes and a hint of wild honey   \n",
       "4                                      Softer taste   \n",
       "\n",
       "                                     characteristics  is_organic  \\\n",
       "0                                           Uncooked           0   \n",
       "1                                           Uncooked           0   \n",
       "2  Pressed and cooked cheese, pasta filata, inter...           0   \n",
       "3                                                NaN           0   \n",
       "4                                                NaN           1   \n",
       "\n",
       "           category milk_type milk_treatment    rind_type  \\\n",
       "0       Firm Cheese       Ewe       Raw Milk  Washed Rind   \n",
       "1  Semi-soft Cheese       Cow       Raw Milk  Washed Rind   \n",
       "2       Firm Cheese       Cow    Pasteurized          NaN   \n",
       "3    Veined Cheeses       Cow       Raw Milk          NaN   \n",
       "4  Semi-soft Cheese       Cow       Raw Milk  Washed Rind   \n",
       "\n",
       "                          cheese_name  fat_level  \n",
       "0             Sieur de Duplessis (Le)  lower fat  \n",
       "1                 Tomme Le Champ Doré  lower fat  \n",
       "2  Provolone Sette Fette (Tre-Stelle)  lower fat  \n",
       "3                      Geai Bleu (Le)  lower fat  \n",
       "4                          Gamin (Le)  lower fat  "
      ]
     },
     "execution_count": 54,
     "metadata": {},
     "output_type": "execute_result"
    }
   ],
   "source": [
    "df.replace('?', np.nan, inplace = True)\n",
    "df.head(5)"
   ]
  },
  {
   "cell_type": "markdown",
   "id": "9bf673b3-937b-45f3-bafa-7fb8807b46fa",
   "metadata": {},
   "source": [
    "### 4.9.2 Count missing values in each column"
   ]
  },
  {
   "cell_type": "code",
   "execution_count": 55,
   "id": "43c77f17-1ed6-4be3-b98d-fafa00f2958b",
   "metadata": {},
   "outputs": [
    {
     "data": {
      "text/plain": [
       "cheese_id               0\n",
       "province_code           0\n",
       "manufacturing_type      0\n",
       "moisture_percent       14\n",
       "flavour               241\n",
       "characteristics       399\n",
       "is_organic              0\n",
       "category               23\n",
       "milk_type               1\n",
       "milk_treatment         65\n",
       "rind_type             321\n",
       "cheese_name             0\n",
       "fat_level               0\n",
       "dtype: int64"
      ]
     },
     "execution_count": 55,
     "metadata": {},
     "output_type": "execute_result"
    }
   ],
   "source": [
    "df.isnull().sum()"
   ]
  },
  {
   "cell_type": "markdown",
   "id": "a7084d69-755e-4c13-9b11-e0aae828ea13",
   "metadata": {},
   "source": [
    "Based on the summary above, each column has 1042 rows of data and seven of the columns containing missing data:\n",
    "\n",
    "    \"moisture_percent\": 14 missing data\n",
    "    \"flavour\":  241 missing data\n",
    "    \"characteristics\": 399 missing data\n",
    "    \"category\": 23 missing data\n",
    "    \"milk_type\": 1 missing data\n",
    "    \"milk_treatment\": 65 missing data\n",
    "    \"rind_type\": 321 missing data\n",
    "    \n",
    "\n"
   ]
  },
  {
   "cell_type": "markdown",
   "id": "34649b2c-5943-4855-b8ec-e89d31a50982",
   "metadata": {},
   "source": [
    "## 4.10 Deal with missing data "
   ]
  },
  {
   "cell_type": "markdown",
   "id": "4536c455-0760-43f6-bcb6-2217f550950a",
   "metadata": {},
   "source": [
    "### 4.10.1 Replace it by mean"
   ]
  },
  {
   "cell_type": "code",
   "execution_count": 56,
   "id": "3ea65f2b-c138-43fd-b531-0e1795d89e1b",
   "metadata": {},
   "outputs": [],
   "source": [
    "moisture_mean = df['moisture_percent'].mean()"
   ]
  },
  {
   "cell_type": "code",
   "execution_count": 57,
   "id": "50c1e7e8-b5ea-42e2-9c52-223aac33478f",
   "metadata": {},
   "outputs": [],
   "source": [
    "df['moisture_percent'].replace(np.nan, moisture_mean, inplace = True )"
   ]
  },
  {
   "cell_type": "markdown",
   "id": "22ca2001-2766-45eb-a134-311310f36342",
   "metadata": {},
   "source": [
    "### 4.10.2 Replace it by other"
   ]
  },
  {
   "cell_type": "code",
   "execution_count": 58,
   "id": "29a0dd8f-bb9c-4a05-b44a-03a6b103f765",
   "metadata": {
    "tags": []
   },
   "outputs": [],
   "source": [
    "df['flavour'].replace(np.nan, 'unknown', inplace = True)"
   ]
  },
  {
   "cell_type": "code",
   "execution_count": 59,
   "id": "33292fbc-6ad9-452b-b2da-9320bbcfffa9",
   "metadata": {},
   "outputs": [],
   "source": [
    "df['characteristics'].replace(np.nan, 'Not Specified', inplace = True)"
   ]
  },
  {
   "cell_type": "markdown",
   "id": "1dff4910-64e7-4e21-aeb7-1425ec0dff71",
   "metadata": {},
   "source": [
    "### 4.10.3 Replace it by mode"
   ]
  },
  {
   "cell_type": "code",
   "execution_count": 60,
   "id": "2dc91ced-2195-4089-bfc1-2c6bb0f3e184",
   "metadata": {},
   "outputs": [
    {
     "data": {
      "text/plain": [
       "0    Firm Cheese\n",
       "Name: category, dtype: object"
      ]
     },
     "execution_count": 60,
     "metadata": {},
     "output_type": "execute_result"
    }
   ],
   "source": [
    "df['category'].mode()"
   ]
  },
  {
   "cell_type": "code",
   "execution_count": 61,
   "id": "a36619b3-ff3f-4c34-adf3-1a6e0649a1de",
   "metadata": {},
   "outputs": [],
   "source": [
    "df['category'].replace(np.nan,'Firm Cheese', inplace = True )"
   ]
  },
  {
   "cell_type": "code",
   "execution_count": 62,
   "id": "77c856db-a6bb-4a7d-8a37-ea4728fdbfed",
   "metadata": {},
   "outputs": [
    {
     "data": {
      "text/plain": [
       "Cow                  743\n",
       "Goat                 214\n",
       "Ewe                   62\n",
       "Cow and Goat          13\n",
       "Ewe and Cow            4\n",
       "Ewe and Goat           2\n",
       "Buffalo Cow            2\n",
       "Cow, Goat and Ewe      1\n",
       "Name: milk_type, dtype: int64"
      ]
     },
     "execution_count": 62,
     "metadata": {},
     "output_type": "execute_result"
    }
   ],
   "source": [
    "df['milk_type'].value_counts()"
   ]
  },
  {
   "cell_type": "code",
   "execution_count": 63,
   "id": "8e4f8d3d-d179-43df-a8d8-fb766c9daaea",
   "metadata": {},
   "outputs": [],
   "source": [
    "df['milk_type'].replace(np.nan,'Cow', inplace = True )"
   ]
  },
  {
   "cell_type": "code",
   "execution_count": 64,
   "id": "dea0d48f-347c-4a32-bfca-ee60dca28e65",
   "metadata": {},
   "outputs": [
    {
     "data": {
      "text/plain": [
       "Pasteurized    800\n",
       "Raw Milk       115\n",
       "Thermised       62\n",
       "Name: milk_treatment, dtype: int64"
      ]
     },
     "execution_count": 64,
     "metadata": {},
     "output_type": "execute_result"
    }
   ],
   "source": [
    "df['milk_treatment'].value_counts()"
   ]
  },
  {
   "cell_type": "code",
   "execution_count": 65,
   "id": "674388ee-0e16-40f6-8c32-672fcb7e3c62",
   "metadata": {},
   "outputs": [],
   "source": [
    "df['milk_treatment'].replace(np.nan, 'Pasteurized', inplace = True)"
   ]
  },
  {
   "cell_type": "code",
   "execution_count": 66,
   "id": "8678d7ad-bbe8-445c-b3e4-3f4fc5e822df",
   "metadata": {},
   "outputs": [
    {
     "data": {
      "text/plain": [
       "No Rind         404\n",
       "Bloomy Rind     164\n",
       "Washed Rind     148\n",
       "Brushed Rind      5\n",
       "Name: rind_type, dtype: int64"
      ]
     },
     "execution_count": 66,
     "metadata": {},
     "output_type": "execute_result"
    }
   ],
   "source": [
    "df['rind_type'].value_counts()"
   ]
  },
  {
   "cell_type": "code",
   "execution_count": 67,
   "id": "5907d90e-4243-41c0-a085-22c91f2d6f15",
   "metadata": {},
   "outputs": [],
   "source": [
    "df['rind_type'].replace(np.nan, 'No Rind', inplace = True)"
   ]
  },
  {
   "cell_type": "markdown",
   "id": "ba65e097-05c8-4107-aa07-723b2bf88345",
   "metadata": {},
   "source": [
    "### 4.10.4 Re-Check if we hava missing values"
   ]
  },
  {
   "cell_type": "code",
   "execution_count": 68,
   "id": "8a06c967-1963-440e-b0bc-98b82b1063ba",
   "metadata": {},
   "outputs": [
    {
     "data": {
      "text/plain": [
       "cheese_id             0\n",
       "province_code         0\n",
       "manufacturing_type    0\n",
       "moisture_percent      0\n",
       "flavour               0\n",
       "characteristics       0\n",
       "is_organic            0\n",
       "category              0\n",
       "milk_type             0\n",
       "milk_treatment        0\n",
       "rind_type             0\n",
       "cheese_name           0\n",
       "fat_level             0\n",
       "dtype: int64"
      ]
     },
     "execution_count": 68,
     "metadata": {},
     "output_type": "execute_result"
    }
   ],
   "source": [
    "df.isnull().sum()"
   ]
  },
  {
   "cell_type": "markdown",
   "id": "77deafbc-a0d9-4f62-8b1f-b3d7fc98db6f",
   "metadata": {},
   "source": [
    "### 4.10.5 Check for duplicated values."
   ]
  },
  {
   "cell_type": "code",
   "execution_count": 69,
   "id": "6d7da9c4-300a-4ee5-bde7-50b52ed0f6a6",
   "metadata": {},
   "outputs": [
    {
     "data": {
      "text/plain": [
       "0"
      ]
     },
     "execution_count": 69,
     "metadata": {},
     "output_type": "execute_result"
    }
   ],
   "source": [
    "df.duplicated().sum()"
   ]
  },
  {
   "cell_type": "markdown",
   "id": "a32a0c7f-ffcb-4b35-ac4d-200874dfcd8b",
   "metadata": {},
   "source": [
    "## 4.11 Correct data format"
   ]
  },
  {
   "cell_type": "code",
   "execution_count": 70,
   "id": "2e3e09bd-24e5-4adf-9453-4d60aa2dcd7f",
   "metadata": {},
   "outputs": [
    {
     "data": {
      "text/plain": [
       "cheese_id               int64\n",
       "province_code          object\n",
       "manufacturing_type     object\n",
       "moisture_percent      float64\n",
       "flavour                object\n",
       "characteristics        object\n",
       "is_organic              int64\n",
       "category               object\n",
       "milk_type              object\n",
       "milk_treatment         object\n",
       "rind_type              object\n",
       "cheese_name            object\n",
       "fat_level              object\n",
       "dtype: object"
      ]
     },
     "execution_count": 70,
     "metadata": {},
     "output_type": "execute_result"
    }
   ],
   "source": [
    "df.dtypes"
   ]
  },
  {
   "cell_type": "markdown",
   "id": "dcb30bd7-9c8b-4c04-a048-51b5ab25dacc",
   "metadata": {},
   "source": [
    "### 4.11.1 Verify if the dataframe includes negative entries "
   ]
  },
  {
   "cell_type": "code",
   "execution_count": 71,
   "id": "1178645f-8ce7-495e-aa6c-fe4e206c46ff",
   "metadata": {},
   "outputs": [
    {
     "data": {
      "text/plain": [
       "cheese_id             0\n",
       "province_code         0\n",
       "manufacturing_type    0\n",
       "moisture_percent      0\n",
       "flavour               0\n",
       "characteristics       0\n",
       "is_organic            0\n",
       "category              0\n",
       "milk_type             0\n",
       "milk_treatment        0\n",
       "rind_type             0\n",
       "cheese_name           0\n",
       "fat_level             0\n",
       "dtype: int64"
      ]
     },
     "execution_count": 71,
     "metadata": {},
     "output_type": "execute_result"
    }
   ],
   "source": [
    "df[df['moisture_percent'] < 0].count()"
   ]
  },
  {
   "cell_type": "code",
   "execution_count": 72,
   "id": "2a4125ca-f8a6-40a6-80e6-5b64ebbaf4fc",
   "metadata": {},
   "outputs": [
    {
     "data": {
      "text/html": [
       "<div>\n",
       "<style scoped>\n",
       "    .dataframe tbody tr th:only-of-type {\n",
       "        vertical-align: middle;\n",
       "    }\n",
       "\n",
       "    .dataframe tbody tr th {\n",
       "        vertical-align: top;\n",
       "    }\n",
       "\n",
       "    .dataframe thead th {\n",
       "        text-align: right;\n",
       "    }\n",
       "</style>\n",
       "<table border=\"1\" class=\"dataframe\">\n",
       "  <thead>\n",
       "    <tr style=\"text-align: right;\">\n",
       "      <th></th>\n",
       "      <th>cheese_id</th>\n",
       "      <th>province_code</th>\n",
       "      <th>manufacturing_type</th>\n",
       "      <th>moisture_percent</th>\n",
       "      <th>flavour</th>\n",
       "      <th>characteristics</th>\n",
       "      <th>is_organic</th>\n",
       "      <th>category</th>\n",
       "      <th>milk_type</th>\n",
       "      <th>milk_treatment</th>\n",
       "      <th>rind_type</th>\n",
       "      <th>cheese_name</th>\n",
       "      <th>fat_level</th>\n",
       "    </tr>\n",
       "  </thead>\n",
       "  <tbody>\n",
       "    <tr>\n",
       "      <th>0</th>\n",
       "      <td>228</td>\n",
       "      <td>NB</td>\n",
       "      <td>Farmstead</td>\n",
       "      <td>47.0</td>\n",
       "      <td>Sharp, lactic</td>\n",
       "      <td>Uncooked</td>\n",
       "      <td>0</td>\n",
       "      <td>Firm Cheese</td>\n",
       "      <td>Ewe</td>\n",
       "      <td>Raw Milk</td>\n",
       "      <td>Washed Rind</td>\n",
       "      <td>Sieur de Duplessis (Le)</td>\n",
       "      <td>lower fat</td>\n",
       "    </tr>\n",
       "    <tr>\n",
       "      <th>1</th>\n",
       "      <td>242</td>\n",
       "      <td>NB</td>\n",
       "      <td>Farmstead</td>\n",
       "      <td>47.9</td>\n",
       "      <td>Sharp, lactic, lightly caramelized</td>\n",
       "      <td>Uncooked</td>\n",
       "      <td>0</td>\n",
       "      <td>Semi-soft Cheese</td>\n",
       "      <td>Cow</td>\n",
       "      <td>Raw Milk</td>\n",
       "      <td>Washed Rind</td>\n",
       "      <td>Tomme Le Champ Doré</td>\n",
       "      <td>lower fat</td>\n",
       "    </tr>\n",
       "    <tr>\n",
       "      <th>2</th>\n",
       "      <td>301</td>\n",
       "      <td>ON</td>\n",
       "      <td>Industrial</td>\n",
       "      <td>54.0</td>\n",
       "      <td>Mild, tangy, and fruity</td>\n",
       "      <td>Pressed and cooked cheese, pasta filata, inter...</td>\n",
       "      <td>0</td>\n",
       "      <td>Firm Cheese</td>\n",
       "      <td>Cow</td>\n",
       "      <td>Pasteurized</td>\n",
       "      <td>No Rind</td>\n",
       "      <td>Provolone Sette Fette (Tre-Stelle)</td>\n",
       "      <td>lower fat</td>\n",
       "    </tr>\n",
       "    <tr>\n",
       "      <th>3</th>\n",
       "      <td>303</td>\n",
       "      <td>NB</td>\n",
       "      <td>Farmstead</td>\n",
       "      <td>47.0</td>\n",
       "      <td>Sharp with fruity notes and a hint of wild honey</td>\n",
       "      <td>Not Specified</td>\n",
       "      <td>0</td>\n",
       "      <td>Veined Cheeses</td>\n",
       "      <td>Cow</td>\n",
       "      <td>Raw Milk</td>\n",
       "      <td>No Rind</td>\n",
       "      <td>Geai Bleu (Le)</td>\n",
       "      <td>lower fat</td>\n",
       "    </tr>\n",
       "    <tr>\n",
       "      <th>4</th>\n",
       "      <td>319</td>\n",
       "      <td>NB</td>\n",
       "      <td>Farmstead</td>\n",
       "      <td>49.4</td>\n",
       "      <td>Softer taste</td>\n",
       "      <td>Not Specified</td>\n",
       "      <td>1</td>\n",
       "      <td>Semi-soft Cheese</td>\n",
       "      <td>Cow</td>\n",
       "      <td>Raw Milk</td>\n",
       "      <td>Washed Rind</td>\n",
       "      <td>Gamin (Le)</td>\n",
       "      <td>lower fat</td>\n",
       "    </tr>\n",
       "  </tbody>\n",
       "</table>\n",
       "</div>"
      ],
      "text/plain": [
       "   cheese_id province_code manufacturing_type  moisture_percent  \\\n",
       "0        228            NB          Farmstead              47.0   \n",
       "1        242            NB          Farmstead              47.9   \n",
       "2        301            ON         Industrial              54.0   \n",
       "3        303            NB          Farmstead              47.0   \n",
       "4        319            NB          Farmstead              49.4   \n",
       "\n",
       "                                            flavour  \\\n",
       "0                                     Sharp, lactic   \n",
       "1                Sharp, lactic, lightly caramelized   \n",
       "2                           Mild, tangy, and fruity   \n",
       "3  Sharp with fruity notes and a hint of wild honey   \n",
       "4                                      Softer taste   \n",
       "\n",
       "                                     characteristics  is_organic  \\\n",
       "0                                           Uncooked           0   \n",
       "1                                           Uncooked           0   \n",
       "2  Pressed and cooked cheese, pasta filata, inter...           0   \n",
       "3                                      Not Specified           0   \n",
       "4                                      Not Specified           1   \n",
       "\n",
       "           category milk_type milk_treatment    rind_type  \\\n",
       "0       Firm Cheese       Ewe       Raw Milk  Washed Rind   \n",
       "1  Semi-soft Cheese       Cow       Raw Milk  Washed Rind   \n",
       "2       Firm Cheese       Cow    Pasteurized      No Rind   \n",
       "3    Veined Cheeses       Cow       Raw Milk      No Rind   \n",
       "4  Semi-soft Cheese       Cow       Raw Milk  Washed Rind   \n",
       "\n",
       "                          cheese_name  fat_level  \n",
       "0             Sieur de Duplessis (Le)  lower fat  \n",
       "1                 Tomme Le Champ Doré  lower fat  \n",
       "2  Provolone Sette Fette (Tre-Stelle)  lower fat  \n",
       "3                      Geai Bleu (Le)  lower fat  \n",
       "4                          Gamin (Le)  lower fat  "
      ]
     },
     "execution_count": 72,
     "metadata": {},
     "output_type": "execute_result"
    }
   ],
   "source": [
    "df.head(5)"
   ]
  },
  {
   "cell_type": "markdown",
   "id": "cd7e7d16-47b2-4d39-aecb-3e9095a10096",
   "metadata": {},
   "source": [
    "# 4.12 Exploratory Data Analysis (EDA) with visualization"
   ]
  },
  {
   "cell_type": "markdown",
   "id": "1cf3cf66-1564-419c-b162-40cdebf60295",
   "metadata": {},
   "source": [
    "Create visualizations to answer the questions:\n",
    "1. What is the distribution of cheeses by milk type (cow, goat, sheep, buffalo)?\n",
    "2. What is the distribution of different cheese categories (e.g., soft, hard, semi-soft) across various milk types (cow, goat, sheep, buffalo)?\n",
    "3. How does milk treatment (raw vs. pasteurized) impact the cheese category?\n",
    "4. What is the relationship between fat content and production methods (e.g., artisanal vs. industrial)?\n",
    "5. What are the top provinces in terms of cheese variety and production?\n",
    "    "
   ]
  },
  {
   "cell_type": "code",
   "execution_count": 73,
   "id": "919f1647-b992-4701-8d8a-68460c092986",
   "metadata": {
    "tags": []
   },
   "outputs": [],
   "source": [
    "import numpy as np\n",
    "import pandas as pd\n",
    "\n",
    "import seaborn as sns\n",
    "import matplotlib.pyplot as plt"
   ]
  },
  {
   "cell_type": "markdown",
   "id": "bf674f94-efd7-4fcd-bd06-1ddfc7e8ea14",
   "metadata": {},
   "source": [
    "#### Question 1\n",
    "Based on the barplot, what is the distribution of cheeses by milk type (cow, goat, sheep, buffalo)?"
   ]
  },
  {
   "cell_type": "code",
   "execution_count": 74,
   "id": "e4722153-b122-4c79-ace7-e0cbfca7b800",
   "metadata": {},
   "outputs": [],
   "source": [
    "milk_type_group = df.groupby('milk_type', as_index = False).agg({'cheese_id': 'count'})"
   ]
  },
  {
   "cell_type": "code",
   "execution_count": 75,
   "id": "821962ea-0b7f-4dd6-b899-82212546d8e5",
   "metadata": {},
   "outputs": [
    {
     "data": {
      "image/png": "[encoded data removed]",
      "text/plain": [
       "<Figure size 864x432 with 1 Axes>"
      ]
     },
     "metadata": {
      "needs_background": "light"
     },
     "output_type": "display_data"
    }
   ],
   "source": [
    "plt.figure(figsize=(12, 6))\n",
    "sns.barplot(data = milk_type_group, x = 'milk_type', y = 'cheese_id')\n",
    "plt.title('Distribution of Cheeses by Milk Type', fontsize=20)\n",
    "plt.xlabel('Milk Type', fontsize=14)\n",
    "plt.ylabel('Count', fontsize=14)\n",
    "#plt.xticks(rotation=45)\n",
    "plt.show()"
   ]
  },
  {
   "cell_type": "markdown",
   "id": "0c883e5a-d01b-4dbb-bf2b-ee0991ad4a4b",
   "metadata": {},
   "source": [
    "#### Answer"
   ]
  },
  {
   "cell_type": "markdown",
   "id": "13832ae8-80e3-4dfc-a731-de4ede48d5e8",
   "metadata": {},
   "source": [
    "Cow milk is the most common, the second most is goat."
   ]
  },
  {
   "cell_type": "markdown",
   "id": "6d4cb8f5-ab61-4510-bfbb-3f15880b095d",
   "metadata": {},
   "source": [
    "### Sub-question\n",
    "What is the distribution of different cheese categories (e.g., soft, hard, semi-soft) across various milk types (cow, goat, sheep, buffalo)?"
   ]
  },
  {
   "cell_type": "code",
   "execution_count": 142,
   "id": "09bcd0d1-8098-435d-8f77-41086b5e0016",
   "metadata": {
    "tags": []
   },
   "outputs": [
    {
     "data": {
      "text/plain": [
       "<AxesSubplot:xlabel='milk_type'>"
      ]
     },
     "execution_count": 142,
     "metadata": {},
     "output_type": "execute_result"
    },
    {
     "data": {
      "text/plain": [
       "<Figure size 1152x432 with 0 Axes>"
      ]
     },
     "metadata": {},
     "output_type": "display_data"
    },
    {
     "data": {
      "image/png": "[encoded data removed]",
      "text/plain": [
       "<Figure size 720x432 with 1 Axes>"
      ]
     },
     "metadata": {
      "needs_background": "light"
     },
     "output_type": "display_data"
    }
   ],
   "source": [
    "plt.figure(figsize=(16, 6))\n",
    "\n",
    "# Sample groupby operation to get the counts\n",
    "category_distribution = df.groupby(['milk_type', 'category'], as_index=False).agg({'cheese_id': 'count'})\n",
    "\n",
    "# Pivot the data so each 'category' is a column and 'milk_type' is the index\n",
    "category_distribution = category_distribution.pivot(index='milk_type', columns='category', values='cheese_id')\n",
    "\n",
    "# Plot a stacked bar chart\n",
    "category_distribution.plot(kind='bar', stacked=True, figsize=(10, 6))\n"
   ]
  },
  {
   "cell_type": "markdown",
   "id": "dfd7fab5-1232-4f4f-9097-25ada8caf1d2",
   "metadata": {},
   "source": [
    "### Answer"
   ]
  },
  {
   "cell_type": "markdown",
   "id": "4a443b21-290e-42bc-bb7f-7c6804c1198f",
   "metadata": {},
   "source": [
    "Cow milk dominates the production of many cheese type; firm cheese, soft cheese and semi-soft cheese are mostly made from cow milk. Goat milk is mostly used to produce soft cheese, fresh cheese and firm cheese. Ewe(sheep) milk is moslty used to produce semi-soft cheese and fresh cheese in smaller quantities. "
   ]
  },
  {
   "cell_type": "markdown",
   "id": "0921a866-ea16-4249-94f2-139189f2f4da",
   "metadata": {},
   "source": [
    "#### Question 2\n",
    "How does the average fat content differ between artisanal and industrial cheeses, and how does milk type influence these trends?"
   ]
  },
  {
   "cell_type": "code",
   "execution_count": 78,
   "id": "ef2cfa39-81b7-47fd-92f0-47bf7dcf0753",
   "metadata": {},
   "outputs": [],
   "source": [
    "manufacturing_distribution = df.groupby(['milk_type','manufacturing_type'] , as_index= False).agg({'cheese_id': 'count'})"
   ]
  },
  {
   "cell_type": "code",
   "execution_count": 79,
   "id": "80f04c28-a6c2-47b5-9f60-147cfc1279af",
   "metadata": {},
   "outputs": [
    {
     "data": {
      "text/plain": [
       "<AxesSubplot:xlabel='milk_type', ylabel='cheese_id'>"
      ]
     },
     "execution_count": 79,
     "metadata": {},
     "output_type": "execute_result"
    },
    {
     "data": {
      "image/png": "[encoded data removed]",
      "text/plain": [
       "<Figure size 1152x432 with 1 Axes>"
      ]
     },
     "metadata": {
      "needs_background": "light"
     },
     "output_type": "display_data"
    }
   ],
   "source": [
    "plt.figure(figsize=(16, 6))\n",
    "sns.barplot(data = manufacturing_distribution, x = 'milk_type', y= 'cheese_id', hue = 'manufacturing_type' )"
   ]
  },
  {
   "cell_type": "markdown",
   "id": "8686bc54-fc23-4aca-b7a3-2011ae3aef1d",
   "metadata": {},
   "source": [
    "The majority of cheeses come from cow milk, with the majority being industrial. Artisan and farmstead production are also present with small numbers. The production of got cheeses are balanced between artisan, farmstead  and industrial manufacturing. Other milk types are less common, with few artisan and industial production, but moslty rare. "
   ]
  },
  {
   "cell_type": "markdown",
   "id": "7f028612-25a4-4e61-8a0d-6bf10e6a0bdf",
   "metadata": {},
   "source": [
    "### Which type of cheese has the highest fat"
   ]
  },
  {
   "cell_type": "code",
   "execution_count": 80,
   "id": "2711f290-f6eb-47ed-88d1-42d4f804c1f8",
   "metadata": {},
   "outputs": [],
   "source": [
    "manufacturing_distribution = df.groupby(['milk_type','fat_level'] , as_index= False).agg({'cheese_id': 'count'})"
   ]
  },
  {
   "cell_type": "code",
   "execution_count": 81,
   "id": "9fe27c88-e453-4565-9175-c653945cd3d3",
   "metadata": {},
   "outputs": [
    {
     "data": {
      "text/plain": [
       "<AxesSubplot:xlabel='milk_type', ylabel='cheese_id'>"
      ]
     },
     "execution_count": 81,
     "metadata": {},
     "output_type": "execute_result"
    },
    {
     "data": {
      "image/png": "[encoded data removed]",
      "text/plain": [
       "<Figure size 1152x432 with 1 Axes>"
      ]
     },
     "metadata": {
      "needs_background": "light"
     },
     "output_type": "display_data"
    }
   ],
   "source": [
    "plt.figure(figsize=(16, 6))\n",
    "sns.barplot(data = manufacturing_distribution, x = 'milk_type', y= 'cheese_id', hue = 'fat_level' )"
   ]
  },
  {
   "cell_type": "markdown",
   "id": "6e1fa11e-87a2-4971-b552-09d554ac0015",
   "metadata": {},
   "source": [
    "The above bar chart shows that cow milk cheese is greater in quantity with it's cheese having lower fat content compared to than other milk type. But it also has higher fat content other milk type. Also, goat cheese seems to have lower fat content. "
   ]
  },
  {
   "cell_type": "markdown",
   "id": "26219523-9107-497d-9371-75a4660ceca9",
   "metadata": {},
   "source": [
    "### Subquestion: milk_type'vs 'milk_treatment'"
   ]
  },
  {
   "cell_type": "code",
   "execution_count": 82,
   "id": "f4cbba89-961f-41c1-9dac-d4f1657e07a1",
   "metadata": {},
   "outputs": [
    {
     "data": {
      "text/plain": [
       "<AxesSubplot:xlabel='milk_type', ylabel='cheese_id'>"
      ]
     },
     "execution_count": 82,
     "metadata": {},
     "output_type": "execute_result"
    },
    {
     "data": {
      "image/png": "[encoded data removed]",
      "text/plain": [
       "<Figure size 1152x432 with 1 Axes>"
      ]
     },
     "metadata": {
      "needs_background": "light"
     },
     "output_type": "display_data"
    }
   ],
   "source": [
    "grop = df.groupby(['milk_type','milk_treatment'] , as_index = False).agg({'cheese_id': 'count'})\n",
    "plt.figure(figsize=(16, 6))\n",
    "sns.barplot(data = grop, x = 'milk_type', y= 'cheese_id', hue = 'milk_treatment' )"
   ]
  },
  {
   "cell_type": "markdown",
   "id": "df060b6b-ebab-4b9d-9f6a-bb9b9eb0e3db",
   "metadata": {},
   "source": [
    "The most common treatment for cow milk is Pasteurized treatment. The large majority of cow milk is being pasteurized. Same with goat milk. "
   ]
  },
  {
   "cell_type": "markdown",
   "id": "cc9f9f4b-310e-432c-ab2f-a6c274ac5d79",
   "metadata": {},
   "source": [
    "## What impact does milk treatment (raw vs. pasteurized) have on cheese category ?"
   ]
  },
  {
   "cell_type": "code",
   "execution_count": 83,
   "id": "446122b9-6d5e-456a-804a-0163674dce34",
   "metadata": {},
   "outputs": [],
   "source": [
    "grop = df.groupby(['milk_treatment','category'] , as_index = False).agg({'cheese_id': 'count'})"
   ]
  },
  {
   "cell_type": "code",
   "execution_count": 84,
   "id": "f5ce49ea-8801-4675-8183-a00821ab9603",
   "metadata": {
    "tags": []
   },
   "outputs": [
    {
     "data": {
      "text/plain": [
       "<AxesSubplot:xlabel='milk_treatment', ylabel='cheese_id'>"
      ]
     },
     "execution_count": 84,
     "metadata": {},
     "output_type": "execute_result"
    },
    {
     "data": {
      "image/png": "[encoded data removed]",
      "text/plain": [
       "<Figure size 1152x432 with 1 Axes>"
      ]
     },
     "metadata": {
      "needs_background": "light"
     },
     "output_type": "display_data"
    }
   ],
   "source": [
    "plt.figure(figsize=(16, 6))\n",
    "sns.barplot(data = grop, x = 'milk_treatment', y= 'cheese_id', hue = 'category' )"
   ]
  },
  {
   "cell_type": "markdown",
   "id": "f773505f-c2c0-4ab3-918a-d0ecbfb5e851",
   "metadata": {},
   "source": [
    "### Subquestion:  milk_treatment' vs 'manufacturing_typ"
   ]
  },
  {
   "cell_type": "code",
   "execution_count": 85,
   "id": "1ee17ac7-5244-411a-a24c-d7229ea1b02b",
   "metadata": {},
   "outputs": [
    {
     "data": {
      "text/plain": [
       "<AxesSubplot:xlabel='milk_treatment', ylabel='cheese_id'>"
      ]
     },
     "execution_count": 85,
     "metadata": {},
     "output_type": "execute_result"
    },
    {
     "data": {
      "image/png": "[encoded data removed]",
      "text/plain": [
       "<Figure size 1152x432 with 1 Axes>"
      ]
     },
     "metadata": {
      "needs_background": "light"
     },
     "output_type": "display_data"
    }
   ],
   "source": [
    "manufacturing_distribution = df.groupby(['milk_treatment','manufacturing_type'] , as_index= False).agg({'cheese_id': 'count'})\n",
    "plt.figure(figsize=(16, 6))\n",
    "sns.barplot(data = manufacturing_distribution, x = 'milk_treatment', y= 'cheese_id', hue = 'manufacturing_type' )"
   ]
  },
  {
   "cell_type": "markdown",
   "id": "4af6c2c9-a510-4cb7-9e79-cc129ab97b87",
   "metadata": {},
   "source": [
    "Most of the cheese are produced with pasteurized milk which are mainly manufacture by industrial. Artisan manufacturing is frequent in pasteurized, raw milk and thermised milk categories. Farmstead cheeses are mostly produced using pasteurized milk. "
   ]
  },
  {
   "cell_type": "markdown",
   "id": "ec21fb0f-98d8-4c5d-ab67-8a4546fb0c69",
   "metadata": {},
   "source": [
    "### What impact does milk treatment (raw vs. pasteurized) have on fat content?"
   ]
  },
  {
   "cell_type": "code",
   "execution_count": 86,
   "id": "3f919cf2-480d-422e-a494-02415264be83",
   "metadata": {},
   "outputs": [],
   "source": [
    "fat_group = df.groupby(['milk_treatment','fat_level'], as_index = False).agg({'cheese_id': 'count'})"
   ]
  },
  {
   "cell_type": "code",
   "execution_count": 87,
   "id": "9c62995f-3fd4-4477-916e-929cea21113d",
   "metadata": {},
   "outputs": [
    {
     "data": {
      "text/plain": [
       "<AxesSubplot:xlabel='milk_treatment', ylabel='cheese_id'>"
      ]
     },
     "execution_count": 87,
     "metadata": {},
     "output_type": "execute_result"
    },
    {
     "data": {
      "image/png": "[encoded data removed]",
      "text/plain": [
       "<Figure size 1152x432 with 1 Axes>"
      ]
     },
     "metadata": {
      "needs_background": "light"
     },
     "output_type": "display_data"
    }
   ],
   "source": [
    "plt.figure(figsize=(16, 6))\n",
    "sns.barplot(data =fat_group, x = 'milk_treatment', y= 'cheese_id', hue = 'fat_level' , palette=\"coolwarm\")"
   ]
  },
  {
   "cell_type": "markdown",
   "id": "aa8bae8f-ca00-4d62-bd65-2e4550a6e17f",
   "metadata": {},
   "source": [
    "Pasteurized milk dominates in both higher fat (blue) and lower fat (peach) cheese production. However, there’s a clear trend showing that more cheeses fall into the lower fat category. "
   ]
  },
  {
   "cell_type": "markdown",
   "id": "c1d6e849-6678-4888-8ada-cdac8014969c",
   "metadata": {},
   "source": [
    "# What is the relationship between fat content and production methods (e.g., artisanal vs. industrial)?"
   ]
  },
  {
   "cell_type": "code",
   "execution_count": 88,
   "id": "c27e36fd-2248-4a7d-b25b-2296b341d32a",
   "metadata": {},
   "outputs": [
    {
     "data": {
      "text/plain": [
       "<AxesSubplot:xlabel='manufacturing_type', ylabel='cheese_id'>"
      ]
     },
     "execution_count": 88,
     "metadata": {},
     "output_type": "execute_result"
    },
    {
     "data": {
      "image/png": "[encoded data removed]",
      "text/plain": [
       "<Figure size 1152x432 with 1 Axes>"
      ]
     },
     "metadata": {
      "needs_background": "light"
     },
     "output_type": "display_data"
    }
   ],
   "source": [
    "fattss_group = df.groupby(['manufacturing_type','fat_level'], as_index = False).agg({'cheese_id': 'count'})\n",
    "plt.figure(figsize=(16, 6))\n",
    "sns.barplot(data =fattss_group, x = 'manufacturing_type', y= 'cheese_id', hue = 'fat_level' )"
   ]
  },
  {
   "cell_type": "markdown",
   "id": "7bceb649-940c-46d2-8183-6525143901c3",
   "metadata": {},
   "source": [
    "### Cheeses made from raw milk  are more likely to have  higher fat, while pasteurixed milk is more likely associated with lower-fat cheeses"
   ]
  },
  {
   "cell_type": "markdown",
   "id": "74d3edc0-d34d-440f-80c1-345500c62aba",
   "metadata": {},
   "source": [
    "# How is organic cheese distributed across different fat level?"
   ]
  },
  {
   "cell_type": "code",
   "execution_count": 89,
   "id": "318aeff6-2b07-4f58-9126-3f38368d8519",
   "metadata": {},
   "outputs": [],
   "source": [
    "fattss_group = df.groupby(['fat_level','is_organic'], as_index = False).agg({'cheese_id': 'count'})"
   ]
  },
  {
   "cell_type": "code",
   "execution_count": 90,
   "id": "912b0496-d4de-4db4-b2ec-1f66b1fe126e",
   "metadata": {},
   "outputs": [
    {
     "data": {
      "text/plain": [
       "<AxesSubplot:xlabel='is_organic', ylabel='cheese_id'>"
      ]
     },
     "execution_count": 90,
     "metadata": {},
     "output_type": "execute_result"
    },
    {
     "data": {
      "image/png": "[encoded data removed]",
      "text/plain": [
       "<Figure size 1152x432 with 1 Axes>"
      ]
     },
     "metadata": {
      "needs_background": "light"
     },
     "output_type": "display_data"
    }
   ],
   "source": [
    "plt.figure(figsize=(16, 6))\n",
    "sns.barplot(data =fattss_group, x = 'is_organic', y= 'cheese_id', hue = 'fat_level' )"
   ]
  },
  {
   "cell_type": "markdown",
   "id": "3f866aa5-98db-4866-99ac-75afee8f68c5",
   "metadata": {},
   "source": [
    "## 3. What are the top provinces in terms of cheese variety and production?"
   ]
  },
  {
   "cell_type": "code",
   "execution_count": 92,
   "id": "a07048a5-8f65-42d9-aa9e-2ea7991f73c8",
   "metadata": {},
   "outputs": [],
   "source": [
    "is_organic_countt = df.groupby(['province_code','milk_type'] , as_index= False).agg({'cheese_id': 'count'})"
   ]
  },
  {
   "cell_type": "code",
   "execution_count": null,
   "id": "045cab36-9e20-4d35-927f-d0f87f70f964",
   "metadata": {},
   "outputs": [
    {
     "data": {
      "text/plain": [
       "<AxesSubplot:xlabel='milk_type', ylabel='cheese_id'>"
      ]
     },
     "execution_count": 93,
     "metadata": {},
     "output_type": "execute_result"
    },
    {
     "data": {
      "image/png": "[encoded data removed]",
      "text/plain": [
       "<Figure size 1152x432 with 1 Axes>"
      ]
     },
     "metadata": {
      "needs_background": "light"
     },
     "output_type": "display_data"
    }
   ],
   "source": [
    "plt.figure(figsize=(16, 6))\n",
    "\n",
    "sns.barplot(data = is_organic_countt, x ='milk_type', y = 'cheese_id', hue='province_code' )\n"
   ]
  },
  {
   "cell_type": "markdown",
   "id": "47b727be-4973-4d87-9746-a912f493cd28",
   "metadata": {},
   "source": [
    " Quebec(QC) is the top producer of cow , goat and Ewe milk in Canada. Ontario is the second largest producer. "
   ]
  },
  {
   "cell_type": "markdown",
   "id": "f6d29638-387e-4409-83da-d12bf85695b5",
   "metadata": {},
   "source": [
    "### Question 3\n",
    "What is the distribution of organic versus non-organic cheeses within each milk type?"
   ]
  },
  {
   "cell_type": "code",
   "execution_count": 94,
   "id": "afbb2988-a899-489a-8beb-5892fd857238",
   "metadata": {},
   "outputs": [],
   "source": [
    "is_organic_count = df.groupby(['milk_type','is_organic'] , as_index= False).agg({'cheese_id': 'count'})"
   ]
  },
  {
   "cell_type": "code",
   "execution_count": 95,
   "id": "8ad34cc5-7be6-410e-a649-cf68c57bb97f",
   "metadata": {},
   "outputs": [
    {
     "data": {
      "text/plain": [
       "<AxesSubplot:xlabel='milk_type', ylabel='cheese_id'>"
      ]
     },
     "execution_count": 95,
     "metadata": {},
     "output_type": "execute_result"
    },
    {
     "data": {
      "image/png": "[encoded data removed]",
      "text/plain": [
       "<Figure size 1152x432 with 1 Axes>"
      ]
     },
     "metadata": {
      "needs_background": "light"
     },
     "output_type": "display_data"
    }
   ],
   "source": [
    "plt.figure(figsize=(16, 6))\n",
    "\n",
    "sns.barplot(data = is_organic_count, x ='milk_type', y = 'cheese_id', hue='is_organic' )\n"
   ]
  },
  {
   "cell_type": "markdown",
   "id": "f5cb33fe-14fd-4505-ab1d-cff87bc05792",
   "metadata": {},
   "source": [
    "Most cow milk is non-organic, which isn’t surprising since it usually goes through pasteurization a process to kill off bacteria and keep it fresh longer. "
   ]
  },
  {
   "cell_type": "markdown",
   "id": "f030df78-24e1-4e87-9685-ec07fbf0fdd4",
   "metadata": {},
   "source": [
    "# Conclusion "
   ]
  },
  {
   "cell_type": "markdown",
   "id": "1ea59349-7a0f-4ff4-8689-b50f5947b8e9",
   "metadata": {},
   "source": [
    "The majority of milk weather be coming from cow, goat, ewe(sheep) is being  pasteurized, which reflects the fouses on safety and the complian with food regulations. Raw milk cheese is the second most common, it might be link to the production of artoisanal industries. \n",
    "\n",
    "Pasteurized milk is likely preferred for mass production, given its longer shelf life and safety for large-scale distribution. Industrial processes align with these needs, explaining the dominance."
   ]
  },
  {
   "cell_type": "markdown",
   "id": "94ebe75d-9d6d-476a-9c7e-0c11a5649c49",
   "metadata": {},
   "source": [
    "## Recomendations"
   ]
  },
  {
   "cell_type": "markdown",
   "id": "91be0880-b29f-4ef3-aa4c-74d9013af46c",
   "metadata": {},
   "source": [
    "Mass producers should continue to develop low-fat pasteurized products to meet growing health trends but might consider premium versions that retain flavor."
   ]
  },
  {
   "cell_type": "code",
   "execution_count": null,
   "id": "1ad22b42-a23d-4380-b2d8-50ea7afeb821",
   "metadata": {},
   "outputs": [],
   "source": []
  }
 ],
 "metadata": {
  "kernelspec": {
   "display_name": "Python 3 (ipykernel)",
   "language": "python",
   "name": "python3"
  },
  "language_info": {
   "codemirror_mode": {
    "name": "ipython",
    "version": 3
   },
   "file_extension": ".py",
   "mimetype": "text/x-python",
   "name": "python",
   "nbconvert_exporter": "python",
   "pygments_lexer": "ipython3",
   "version": "3.9.12"
  }
 },
 "nbformat": 4,
 "nbformat_minor": 5
}
